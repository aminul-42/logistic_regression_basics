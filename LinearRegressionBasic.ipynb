{
  "nbformat": 4,
  "nbformat_minor": 0,
  "metadata": {
    "colab": {
      "provenance": [],
      "collapsed_sections": [
        "192tOHjVzm8I",
        "SIUQed85zuB4",
        "18sY8Itd1u83",
        "k_7awLi92SCD"
      ]
    },
    "kernelspec": {
      "name": "python3",
      "display_name": "Python 3"
    },
    "language_info": {
      "name": "python"
    }
  },
  "cells": [
    {
      "cell_type": "markdown",
      "source": [
        "# Importing Libraries"
      ],
      "metadata": {
        "id": "192tOHjVzm8I"
      }
    },
    {
      "cell_type": "code",
      "execution_count": 185,
      "metadata": {
        "id": "v6Kx7YuCy-Nm"
      },
      "outputs": [],
      "source": [
        "import torch\n",
        "import torch.nn as nn\n",
        "import numpy as np\n",
        "import matplotlib.pyplot as plt\n",
        "import pandas as pd\n",
        "from sklearn.preprocessing import StandardScaler\n",
        "from sklearn.model_selection import train_test_split"
      ]
    },
    {
      "cell_type": "markdown",
      "source": [
        "# Preparing Data"
      ],
      "metadata": {
        "id": "SIUQed85zuB4"
      }
    },
    {
      "cell_type": "code",
      "source": [
        "file_path = \"dataset/Real estate.csv\"\n",
        "df = pd.read_csv(file_path)"
      ],
      "metadata": {
        "id": "vZWOG6uqzxg4"
      },
      "execution_count": 186,
      "outputs": []
    },
    {
      "cell_type": "code",
      "source": [
        "df.columns.tolist()\n",
        "rename_mapping = {\n",
        "    'X2 house age': 'house_age',\n",
        "    'X3 distance to the nearest MRT station': 'distance_nearest_station',\n",
        "    'X4 number of convenience stores': \"numberof_store\",\n",
        "    'X5 latitude':\"latitude\",\n",
        "    'X6 longitude':\"longitude\",\n",
        "    'Y house price of unit area':\"price\"\n",
        "}\n",
        "df = df.rename(columns=rename_mapping)\n",
        "df.columns.tolist()"
      ],
      "metadata": {
        "colab": {
          "base_uri": "https://localhost:8080/"
        },
        "id": "YHIqPZ3c-sPF",
        "outputId": "ac254bc1-6ffd-46ed-a1ab-6555b68bc32a"
      },
      "execution_count": 187,
      "outputs": [
        {
          "output_type": "execute_result",
          "data": {
            "text/plain": [
              "['No',\n",
              " 'X1 transaction date',\n",
              " 'house_age',\n",
              " 'distance_nearest_station',\n",
              " 'numberof_store',\n",
              " 'latitude',\n",
              " 'longitude',\n",
              " 'price']"
            ]
          },
          "metadata": {},
          "execution_count": 187
        }
      ]
    },
    {
      "cell_type": "code",
      "source": [
        "features = ['house_age', 'distance_nearest_station', 'numberof_store', 'latitude', 'longitude'] # Latitude: North–South Position , Longitude: East–West Position\n",
        "target = 'price'\n",
        "x = df[features].values\n",
        "y = df[target].values"
      ],
      "metadata": {
        "id": "JBoRMv9b-t9U"
      },
      "execution_count": 188,
      "outputs": []
    },
    {
      "cell_type": "code",
      "source": [
        "x_train= x\n",
        "y_train= y"
      ],
      "metadata": {
        "id": "bCzTzuY4B0k-"
      },
      "execution_count": 189,
      "outputs": []
    },
    {
      "cell_type": "code",
      "source": [
        "# Convert to NumPy float32\n",
        "x_train = np.array(x_train, dtype=np.float32)\n",
        "y_train = np.array(y_train, dtype=np.float32)"
      ],
      "metadata": {
        "id": "4Qgn9fTwMmPr"
      },
      "execution_count": 190,
      "outputs": []
    },
    {
      "cell_type": "code",
      "source": [
        "# Standardize features\n",
        "scaler = StandardScaler()\n",
        "x_train = scaler.fit_transform(x_train)"
      ],
      "metadata": {
        "id": "eWnznhrgMr-f"
      },
      "execution_count": 191,
      "outputs": []
    },
    {
      "cell_type": "code",
      "source": [
        "# Convert to PyTorch tensors\n",
        "x_train_tensor = torch.tensor(x_train, dtype=torch.float32)  # Shape: [n_samples, n_features]\n",
        "y_train_tensor = torch.tensor(y_train, dtype=torch.float32).unsqueeze(1)  # Shape: [n_samples, 1]"
      ],
      "metadata": {
        "id": "TdHZA8seM0SM"
      },
      "execution_count": 192,
      "outputs": []
    },
    {
      "cell_type": "code",
      "source": [
        "# Verify shapes\n",
        "print(\"X_train_tensor shape:\", x_train_tensor.shape)\n",
        "print(\"y_train_tensor shape:\", y_train_tensor.shape)"
      ],
      "metadata": {
        "colab": {
          "base_uri": "https://localhost:8080/"
        },
        "id": "qjj61TTnM5NX",
        "outputId": "1ed0b91c-3202-44ad-abe1-58406368f19d"
      },
      "execution_count": 193,
      "outputs": [
        {
          "output_type": "stream",
          "name": "stdout",
          "text": [
            "X_train_tensor shape: torch.Size([414, 5])\n",
            "y_train_tensor shape: torch.Size([414, 1])\n"
          ]
        }
      ]
    },
    {
      "cell_type": "markdown",
      "source": [
        "# Building Model ( Linear Regression  )"
      ],
      "metadata": {
        "id": "18sY8Itd1u83"
      }
    },
    {
      "cell_type": "code",
      "source": [
        "# Define linear regression model for multiple features\n",
        "class LinearRegression(nn.Module):\n",
        "    def __init__(self, n_features):\n",
        "        super(LinearRegression, self).__init__()\n",
        "        self.linear = nn.Linear(n_features, 1)  # n_features inputs, 1 output\n",
        "\n",
        "    def forward(self, x):\n",
        "        return self.linear(x)"
      ],
      "metadata": {
        "id": "c3hNjqNc11Zd"
      },
      "execution_count": 194,
      "outputs": []
    },
    {
      "cell_type": "code",
      "source": [
        "model=LinearRegression(n_features=x_train.shape[1])\n",
        "model"
      ],
      "metadata": {
        "colab": {
          "base_uri": "https://localhost:8080/"
        },
        "id": "leLlg1qa16nK",
        "outputId": "3aec3132-3bc4-4733-efc2-9a8c1f1bd9ab"
      },
      "execution_count": 195,
      "outputs": [
        {
          "output_type": "execute_result",
          "data": {
            "text/plain": [
              "LinearRegression(\n",
              "  (linear): Linear(in_features=5, out_features=1, bias=True)\n",
              ")"
            ]
          },
          "metadata": {},
          "execution_count": 195
        }
      ]
    },
    {
      "cell_type": "code",
      "source": [
        "list(model.parameters())"
      ],
      "metadata": {
        "colab": {
          "base_uri": "https://localhost:8080/"
        },
        "id": "KpdTlvy317IX",
        "outputId": "eb97fa1e-7c28-4d94-8335-dff3f4c25eec"
      },
      "execution_count": 196,
      "outputs": [
        {
          "output_type": "execute_result",
          "data": {
            "text/plain": [
              "[Parameter containing:\n",
              " tensor([[ 0.3083,  0.2505, -0.4026, -0.2514, -0.0976]], requires_grad=True),\n",
              " Parameter containing:\n",
              " tensor([-0.3972], requires_grad=True)]"
            ]
          },
          "metadata": {},
          "execution_count": 196
        }
      ]
    },
    {
      "cell_type": "markdown",
      "source": [
        "# Applying loss function and optimizer"
      ],
      "metadata": {
        "id": "KJoCIaZz2HCX"
      }
    },
    {
      "cell_type": "code",
      "source": [
        "criterion=nn.MSELoss()\n",
        "optimizer=torch.optim.SGD(model.parameters(),lr=0.01)"
      ],
      "metadata": {
        "id": "aEjuNB6Y2JYn"
      },
      "execution_count": 197,
      "outputs": []
    },
    {
      "cell_type": "markdown",
      "source": [
        "# Training Loop"
      ],
      "metadata": {
        "id": "k_7awLi92SCD"
      }
    },
    {
      "cell_type": "code",
      "source": [
        "epochs=2000\n",
        "for epoch in range(epochs):\n",
        "  model.train()\n",
        "  out=model(x_train_tensor)\n",
        "  loss=criterion(out,y_train_tensor)\n",
        "  optimizer.zero_grad()\n",
        "  loss.backward()\n",
        "  optimizer.step()\n",
        "  if (epoch +1) % 50 == 0:\n",
        "    print(f'Epoch: [{epoch +1 } / epochs], Loss: {loss.item():.6f}')"
      ],
      "metadata": {
        "colab": {
          "base_uri": "https://localhost:8080/"
        },
        "id": "-DMNRjPE2Lqa",
        "outputId": "9449f066-af67-415e-9600-0a001c19d4b8"
      },
      "execution_count": 198,
      "outputs": [
        {
          "output_type": "stream",
          "name": "stdout",
          "text": [
            "Epoch: [50 / epochs], Loss: 286.938904\n",
            "Epoch: [100 / epochs], Loss: 107.643845\n",
            "Epoch: [150 / epochs], Loss: 83.563698\n",
            "Epoch: [200 / epochs], Loss: 80.180359\n",
            "Epoch: [250 / epochs], Loss: 79.616104\n",
            "Epoch: [300 / epochs], Loss: 79.463554\n",
            "Epoch: [350 / epochs], Loss: 79.388237\n",
            "Epoch: [400 / epochs], Loss: 79.338295\n",
            "Epoch: [450 / epochs], Loss: 79.302376\n",
            "Epoch: [500 / epochs], Loss: 79.276039\n",
            "Epoch: [550 / epochs], Loss: 79.256645\n",
            "Epoch: [600 / epochs], Loss: 79.242340\n",
            "Epoch: [650 / epochs], Loss: 79.231773\n",
            "Epoch: [700 / epochs], Loss: 79.223969\n",
            "Epoch: [750 / epochs], Loss: 79.218216\n",
            "Epoch: [800 / epochs], Loss: 79.213951\n",
            "Epoch: [850 / epochs], Loss: 79.210815\n",
            "Epoch: [900 / epochs], Loss: 79.208504\n",
            "Epoch: [950 / epochs], Loss: 79.206787\n",
            "Epoch: [1000 / epochs], Loss: 79.205513\n",
            "Epoch: [1050 / epochs], Loss: 79.204597\n",
            "Epoch: [1100 / epochs], Loss: 79.203888\n",
            "Epoch: [1150 / epochs], Loss: 79.203377\n",
            "Epoch: [1200 / epochs], Loss: 79.203011\n",
            "Epoch: [1250 / epochs], Loss: 79.202728\n",
            "Epoch: [1300 / epochs], Loss: 79.202522\n",
            "Epoch: [1350 / epochs], Loss: 79.202377\n",
            "Epoch: [1400 / epochs], Loss: 79.202255\n",
            "Epoch: [1450 / epochs], Loss: 79.202179\n",
            "Epoch: [1500 / epochs], Loss: 79.202118\n",
            "Epoch: [1550 / epochs], Loss: 79.202080\n",
            "Epoch: [1600 / epochs], Loss: 79.202042\n",
            "Epoch: [1650 / epochs], Loss: 79.202019\n",
            "Epoch: [1700 / epochs], Loss: 79.201996\n",
            "Epoch: [1750 / epochs], Loss: 79.201981\n",
            "Epoch: [1800 / epochs], Loss: 79.201973\n",
            "Epoch: [1850 / epochs], Loss: 79.201965\n",
            "Epoch: [1900 / epochs], Loss: 79.201958\n",
            "Epoch: [1950 / epochs], Loss: 79.201965\n",
            "Epoch: [2000 / epochs], Loss: 79.201958\n"
          ]
        }
      ]
    },
    {
      "cell_type": "code",
      "source": [],
      "metadata": {
        "id": "aDAC1yjNpqde"
      },
      "execution_count": 198,
      "outputs": []
    }
  ]
}