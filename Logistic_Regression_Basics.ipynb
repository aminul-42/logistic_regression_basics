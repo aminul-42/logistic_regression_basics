{
  "nbformat": 4,
  "nbformat_minor": 0,
  "metadata": {
    "colab": {
      "provenance": [],
      "gpuType": "T4"
    },
    "kernelspec": {
      "name": "python3",
      "display_name": "Python 3"
    },
    "language_info": {
      "name": "python"
    },
    "accelerator": "GPU"
  },
  "cells": [
    {
      "cell_type": "markdown",
      "source": [
        "# 0.importing important libraries"
      ],
      "metadata": {
        "id": "MA1uPaKZGC58"
      }
    },
    {
      "cell_type": "code",
      "execution_count": null,
      "metadata": {
        "id": "fVXRtfKYFqA9"
      },
      "outputs": [],
      "source": [
        "import time # for checking the time\n",
        "import torch #here just assume it is used for making torch tensors and these type of stuff\n",
        "import torch.nn as nn  #assume this is the thing which will help you to make your neural network\n",
        "import torch.nn.functional as F #assume this is the thing which will help you to get loss functions,optimizers etc\n",
        "from torch.utils.data import DataLoader # for loading data into batches\n",
        "from torchvision import datasets,transforms # datasets for getting pytorch datasets,\n",
        "#and transforms ,like here , we will convert pics into tensors with the help of transforms\n",
        "import matplotlib.pyplot as plt # for data Visulization"
      ]
    },
    {
      "cell_type": "markdown",
      "source": [
        "# 1. Preparing Data"
      ],
      "metadata": {
        "id": "DSPM4n4wGJte"
      }
    },
    {
      "cell_type": "code",
      "source": [
        "train_dataset=datasets.FashionMNIST(root='/dataset',train=True,transform=transforms.ToTensor(),download=True)\n",
        "test_dataset=datasets.FashionMNIST(root='/dataset',train=False,transform=transforms.ToTensor())#converting into tensors"
      ],
      "metadata": {
        "colab": {
          "base_uri": "https://localhost:8080/"
        },
        "id": "PqrAJO8PGI-k",
        "outputId": "abad7f50-a4a6-484a-f936-7b26855d0aa1"
      },
      "execution_count": null,
      "outputs": [
        {
          "output_type": "stream",
          "name": "stderr",
          "text": [
            "100%|██████████| 26.4M/26.4M [00:00<00:00, 113MB/s]\n",
            "100%|██████████| 29.5k/29.5k [00:00<00:00, 3.69MB/s]\n",
            "100%|██████████| 4.42M/4.42M [00:00<00:00, 57.1MB/s]\n",
            "100%|██████████| 5.15k/5.15k [00:00<00:00, 14.1MB/s]\n"
          ]
        }
      ]
    },
    {
      "cell_type": "code",
      "source": [
        "batch_size=64\n",
        "train_loader=DataLoader(train_dataset,batch_size=batch_size,shuffle=True)\n",
        "test_loader=DataLoader(test_dataset,batch_size=batch_size,shuffle=False)#converting into batches"
      ],
      "metadata": {
        "id": "_7BC3QHbGI8H"
      },
      "execution_count": null,
      "outputs": []
    },
    {
      "cell_type": "markdown",
      "source": [
        "# 2.Building Model"
      ],
      "metadata": {
        "id": "75WPEZIHGnzE"
      }
    },
    {
      "cell_type": "code",
      "source": [
        "class LogisticRegression(nn.Module):\n",
        "  def __init__(self,in_dim,n_class):\n",
        "    super().__init__()\n",
        "    self.linear=nn.Linear(in_dim,n_class)\n",
        "\n",
        "  def forward(self,x):\n",
        "    out=self.linear(x)\n",
        "    return out"
      ],
      "metadata": {
        "id": "wU-yTGQiGI5E"
      },
      "execution_count": null,
      "outputs": []
    },
    {
      "cell_type": "code",
      "source": [
        "model=LogisticRegression(28 * 28 , 10)"
      ],
      "metadata": {
        "id": "KO7nmWGuGI2a"
      },
      "execution_count": null,
      "outputs": []
    },
    {
      "cell_type": "code",
      "source": [
        "device='cuda' if torch.cuda.is_available() else 'cpu' #selecting device cpu/gpu\n",
        "model=model.to(device)"
      ],
      "metadata": {
        "id": "OTjVrgVZGIzo"
      },
      "execution_count": null,
      "outputs": []
    },
    {
      "cell_type": "markdown",
      "source": [
        "# 3 .Picking a loss Function and Optimizer"
      ],
      "metadata": {
        "id": "W9KEqowWHGpW"
      }
    },
    {
      "cell_type": "code",
      "source": [
        "learning_rate=1e-3\n",
        "criterion=nn.CrossEntropyLoss()\n",
        "optimizer=torch.optim.SGD(model.parameters(),lr=learning_rate)"
      ],
      "metadata": {
        "id": "HIV1CQOlGIw-"
      },
      "execution_count": null,
      "outputs": []
    },
    {
      "cell_type": "markdown",
      "source": [
        "# 4.Training Loop"
      ],
      "metadata": {
        "id": "o1PcGrRQHXUy"
      }
    },
    {
      "cell_type": "code",
      "source": [
        "num_epochs=10"
      ],
      "metadata": {
        "id": "tN6o8hvGGIux"
      },
      "execution_count": null,
      "outputs": []
    },
    {
      "cell_type": "code",
      "source": [
        "for epoch in range(num_epochs): #initializing our for loop ,\n",
        "    print('*' * 10)\n",
        "    print(f'epoch {epoch+1}')\n",
        "    since = time.time()\n",
        "    running_loss = 0.0\n",
        "    running_acc = 0.0\n",
        "    model.train()   #used before training the model\n",
        "    for i, data in enumerate(train_loader, 1): #getting index numbers with data\n",
        "        img, label = data #getting img and labels from our data\n",
        "        img = img.view(img.size(0), -1)\n",
        "        img=img.to(device)\n",
        "        label=label.to(device)\n",
        "\n",
        "        out = model(img)  #getting our prediction from model\n",
        "        loss = criterion(out, label)  # getting loss\n",
        "        running_loss += loss.item()\n",
        "        _, pred = torch.max(out, 1)\n",
        "        running_acc += (pred==label).float().mean()\n",
        "\n",
        "        optimizer.zero_grad() # making our gradients zero (it is necessary )\n",
        "        loss.backward()  #doing backpropagation\n",
        "        optimizer.step() #applying optimizer on it\n",
        "\n",
        "        if i % 300 == 0: #for printing losses ,print out what is happing every 300 indexing\n",
        "            print(f'[{epoch+1}/{num_epochs}] Loss: {running_loss/i:.6f}, Acc: {running_acc/i:.6f}')\n",
        "    print(f'Finish {epoch+1} epoch, Loss: {running_loss/i:.6f}, Acc: {running_acc/i:.6f}')"
      ],
      "metadata": {
        "colab": {
          "base_uri": "https://localhost:8080/"
        },
        "id": "1i_kaH2rGIr_",
        "outputId": "5e2da3a0-fafb-401b-994c-2f3af582d235"
      },
      "execution_count": null,
      "outputs": [
        {
          "output_type": "stream",
          "name": "stdout",
          "text": [
            "**********\n",
            "epoch 1\n",
            "[1/10] Loss: 1.976396, Acc: 0.461615\n",
            "[1/10] Loss: 1.799765, Acc: 0.546354\n",
            "[1/10] Loss: 1.671935, Acc: 0.583472\n",
            "Finish 1 epoch, Loss: 1.658441, Acc: 0.586854\n",
            "**********\n",
            "epoch 2\n",
            "[2/10] Loss: 1.269598, Acc: 0.666094\n",
            "[2/10] Loss: 1.225828, Acc: 0.670052\n",
            "[2/10] Loss: 1.187339, Acc: 0.675000\n",
            "Finish 2 epoch, Loss: 1.183487, Acc: 0.674890\n",
            "**********\n",
            "epoch 3\n",
            "[3/10] Loss: 1.057526, Acc: 0.685677\n",
            "[3/10] Loss: 1.034649, Acc: 0.691172\n",
            "[3/10] Loss: 1.016261, Acc: 0.694653\n",
            "Finish 3 epoch, Loss: 1.014391, Acc: 0.694979\n",
            "**********\n",
            "epoch 4\n",
            "[4/10] Loss: 0.947188, Acc: 0.707240\n",
            "[4/10] Loss: 0.934138, Acc: 0.711536\n",
            "[4/10] Loss: 0.925362, Acc: 0.713663\n",
            "Finish 4 epoch, Loss: 0.924370, Acc: 0.714252\n",
            "**********\n",
            "epoch 5\n",
            "[5/10] Loss: 0.877900, Acc: 0.727344\n",
            "[5/10] Loss: 0.873959, Acc: 0.726901\n",
            "[5/10] Loss: 0.867043, Acc: 0.729740\n",
            "Finish 5 epoch, Loss: 0.866101, Acc: 0.730710\n",
            "**********\n",
            "epoch 6\n",
            "[6/10] Loss: 0.842046, Acc: 0.739063\n",
            "[6/10] Loss: 0.832903, Acc: 0.741510\n",
            "[6/10] Loss: 0.825052, Acc: 0.742830\n",
            "Finish 6 epoch, Loss: 0.824581, Acc: 0.742621\n",
            "**********\n",
            "epoch 7\n",
            "[7/10] Loss: 0.806983, Acc: 0.748021\n",
            "[7/10] Loss: 0.796477, Acc: 0.751068\n",
            "[7/10] Loss: 0.792225, Acc: 0.751736\n",
            "Finish 7 epoch, Loss: 0.792578, Acc: 0.751749\n",
            "**********\n",
            "epoch 8\n",
            "[8/10] Loss: 0.772568, Acc: 0.763542\n",
            "[8/10] Loss: 0.772565, Acc: 0.758047\n",
            "[8/10] Loss: 0.768520, Acc: 0.758993\n",
            "Finish 8 epoch, Loss: 0.766977, Acc: 0.759928\n",
            "**********\n",
            "epoch 9\n",
            "[9/10] Loss: 0.747437, Acc: 0.767188\n",
            "[9/10] Loss: 0.743778, Acc: 0.767161\n",
            "[9/10] Loss: 0.744792, Acc: 0.766233\n",
            "Finish 9 epoch, Loss: 0.745757, Acc: 0.765808\n",
            "**********\n",
            "epoch 10\n",
            "[10/10] Loss: 0.736856, Acc: 0.769375\n",
            "[10/10] Loss: 0.730518, Acc: 0.771328\n",
            "[10/10] Loss: 0.728344, Acc: 0.771337\n",
            "Finish 10 epoch, Loss: 0.727834, Acc: 0.771572\n"
          ]
        }
      ]
    },
    {
      "cell_type": "markdown",
      "source": [
        "#5.Evaluating Model"
      ],
      "metadata": {
        "id": "TEsTdq_SHwTx"
      }
    },
    {
      "cell_type": "code",
      "source": [
        "model.eval()  #for checking how good is your model on the test dataset  (for evaluation )\n",
        "eval_loss = 0.\n",
        "eval_acc = 0.\n",
        "for data in test_loader:\n",
        "        img, label = data\n",
        "        img = img.view(img.size(0), -1)\n",
        "        img=img.to(device)\n",
        "        label=label.to(device)\n",
        "        with torch.no_grad(): # because here we do not need gradients because we are just testing our model,\n",
        "            out = model(img)\n",
        "            loss = criterion(out, label)\n",
        "        eval_loss += loss.item()\n",
        "        _, pred = torch.max(out, 1) #getting prediction from our model for testing the result\n",
        "        eval_acc += (pred == label).float().mean()\n",
        "        print(f'Test Loss: {eval_loss/len(test_loader):.6f}, Acc: {eval_acc/len(test_loader):.6f}')\n",
        "        print(f'Time:{(time.time()-since):.1f} s')"
      ],
      "metadata": {
        "colab": {
          "base_uri": "https://localhost:8080/"
        },
        "id": "7zsLR4vNGIpc",
        "outputId": "0d437ca1-0d65-46ef-e3f2-a9f5ccda2c1e"
      },
      "execution_count": null,
      "outputs": [
        {
          "output_type": "stream",
          "name": "stdout",
          "text": [
            "Test Loss: 0.005168, Acc: 0.004279\n",
            "Time:115.5 s\n",
            "Test Loss: 0.008760, Acc: 0.009853\n",
            "Time:115.5 s\n",
            "Test Loss: 0.012979, Acc: 0.014928\n",
            "Time:115.5 s\n",
            "Test Loss: 0.017541, Acc: 0.019606\n",
            "Time:115.5 s\n",
            "Test Loss: 0.021957, Acc: 0.024781\n",
            "Time:115.5 s\n",
            "Test Loss: 0.026004, Acc: 0.029956\n",
            "Time:115.5 s\n",
            "Test Loss: 0.030144, Acc: 0.034932\n",
            "Time:115.5 s\n",
            "Test Loss: 0.034794, Acc: 0.039809\n",
            "Time:115.5 s\n",
            "Test Loss: 0.039367, Acc: 0.044486\n",
            "Time:115.5 s\n",
            "Test Loss: 0.044891, Acc: 0.049064\n",
            "Time:115.5 s\n",
            "Test Loss: 0.050072, Acc: 0.054140\n",
            "Time:115.5 s\n",
            "Test Loss: 0.055128, Acc: 0.058818\n",
            "Time:115.5 s\n",
            "Test Loss: 0.059236, Acc: 0.064192\n",
            "Time:115.5 s\n",
            "Test Loss: 0.062951, Acc: 0.069268\n",
            "Time:115.5 s\n",
            "Test Loss: 0.067415, Acc: 0.074244\n",
            "Time:115.6 s\n",
            "Test Loss: 0.073319, Acc: 0.078623\n",
            "Time:115.6 s\n",
            "Test Loss: 0.077676, Acc: 0.083698\n",
            "Time:115.6 s\n",
            "Test Loss: 0.083235, Acc: 0.088077\n",
            "Time:115.6 s\n",
            "Test Loss: 0.088388, Acc: 0.092655\n",
            "Time:115.6 s\n",
            "Test Loss: 0.093600, Acc: 0.097631\n",
            "Time:115.6 s\n",
            "Test Loss: 0.098414, Acc: 0.102408\n",
            "Time:115.6 s\n",
            "Test Loss: 0.102969, Acc: 0.107385\n",
            "Time:115.6 s\n",
            "Test Loss: 0.106819, Acc: 0.112858\n",
            "Time:115.6 s\n",
            "Test Loss: 0.111316, Acc: 0.117934\n",
            "Time:115.6 s\n",
            "Test Loss: 0.115293, Acc: 0.123109\n",
            "Time:115.6 s\n",
            "Test Loss: 0.119812, Acc: 0.127986\n",
            "Time:115.6 s\n",
            "Test Loss: 0.124052, Acc: 0.133161\n",
            "Time:115.6 s\n",
            "Test Loss: 0.128921, Acc: 0.138336\n",
            "Time:115.6 s\n",
            "Test Loss: 0.134442, Acc: 0.142615\n",
            "Time:115.6 s\n",
            "Test Loss: 0.137288, Acc: 0.148587\n",
            "Time:115.6 s\n",
            "Test Loss: 0.142201, Acc: 0.153165\n",
            "Time:115.6 s\n",
            "Test Loss: 0.147238, Acc: 0.157942\n",
            "Time:115.7 s\n",
            "Test Loss: 0.152038, Acc: 0.162619\n",
            "Time:115.7 s\n",
            "Test Loss: 0.155901, Acc: 0.167894\n",
            "Time:115.7 s\n",
            "Test Loss: 0.160127, Acc: 0.173169\n",
            "Time:115.7 s\n",
            "Test Loss: 0.164249, Acc: 0.178443\n",
            "Time:115.7 s\n",
            "Test Loss: 0.168413, Acc: 0.183320\n",
            "Time:115.7 s\n",
            "Test Loss: 0.172641, Acc: 0.188595\n",
            "Time:115.7 s\n",
            "Test Loss: 0.176977, Acc: 0.193670\n",
            "Time:115.7 s\n",
            "Test Loss: 0.181966, Acc: 0.198248\n",
            "Time:115.7 s\n",
            "Test Loss: 0.186599, Acc: 0.203324\n",
            "Time:115.7 s\n",
            "Test Loss: 0.191743, Acc: 0.208002\n",
            "Time:115.7 s\n",
            "Test Loss: 0.196945, Acc: 0.212679\n",
            "Time:115.7 s\n",
            "Test Loss: 0.200668, Acc: 0.218053\n",
            "Time:115.7 s\n",
            "Test Loss: 0.205822, Acc: 0.222731\n",
            "Time:115.7 s\n",
            "Test Loss: 0.212361, Acc: 0.226811\n",
            "Time:115.7 s\n",
            "Test Loss: 0.217022, Acc: 0.231887\n",
            "Time:115.7 s\n",
            "Test Loss: 0.222290, Acc: 0.236863\n",
            "Time:115.8 s\n",
            "Test Loss: 0.227440, Acc: 0.241441\n",
            "Time:115.8 s\n",
            "Test Loss: 0.231927, Acc: 0.246318\n",
            "Time:115.8 s\n",
            "Test Loss: 0.238796, Acc: 0.249801\n",
            "Time:115.8 s\n",
            "Test Loss: 0.243817, Acc: 0.254379\n",
            "Time:115.8 s\n",
            "Test Loss: 0.248067, Acc: 0.259256\n",
            "Time:115.8 s\n",
            "Test Loss: 0.253108, Acc: 0.264033\n",
            "Time:115.8 s\n",
            "Test Loss: 0.259159, Acc: 0.268213\n",
            "Time:115.8 s\n",
            "Test Loss: 0.264147, Acc: 0.272791\n",
            "Time:115.8 s\n",
            "Test Loss: 0.268872, Acc: 0.277866\n",
            "Time:115.8 s\n",
            "Test Loss: 0.274147, Acc: 0.282245\n",
            "Time:115.8 s\n",
            "Test Loss: 0.278362, Acc: 0.287221\n",
            "Time:115.8 s\n",
            "Test Loss: 0.283355, Acc: 0.291799\n",
            "Time:115.8 s\n",
            "Test Loss: 0.288521, Acc: 0.296079\n",
            "Time:115.8 s\n",
            "Test Loss: 0.294199, Acc: 0.300657\n",
            "Time:115.8 s\n",
            "Test Loss: 0.298790, Acc: 0.305533\n",
            "Time:115.8 s\n",
            "Test Loss: 0.304373, Acc: 0.309813\n",
            "Time:115.8 s\n",
            "Test Loss: 0.309946, Acc: 0.313893\n",
            "Time:115.9 s\n",
            "Test Loss: 0.314200, Acc: 0.318969\n",
            "Time:115.9 s\n",
            "Test Loss: 0.318896, Acc: 0.323547\n",
            "Time:115.9 s\n",
            "Test Loss: 0.322329, Acc: 0.328822\n",
            "Time:115.9 s\n",
            "Test Loss: 0.326898, Acc: 0.334196\n",
            "Time:115.9 s\n",
            "Test Loss: 0.330358, Acc: 0.339968\n",
            "Time:115.9 s\n",
            "Test Loss: 0.333760, Acc: 0.345541\n",
            "Time:115.9 s\n",
            "Test Loss: 0.337178, Acc: 0.351015\n",
            "Time:115.9 s\n",
            "Test Loss: 0.341537, Acc: 0.355991\n",
            "Time:115.9 s\n",
            "Test Loss: 0.346591, Acc: 0.360470\n",
            "Time:115.9 s\n",
            "Test Loss: 0.351012, Acc: 0.365645\n",
            "Time:115.9 s\n",
            "Test Loss: 0.356487, Acc: 0.370422\n",
            "Time:115.9 s\n",
            "Test Loss: 0.361061, Acc: 0.375299\n",
            "Time:115.9 s\n",
            "Test Loss: 0.365029, Acc: 0.380573\n",
            "Time:115.9 s\n",
            "Test Loss: 0.370848, Acc: 0.384952\n",
            "Time:115.9 s\n",
            "Test Loss: 0.376488, Acc: 0.389232\n",
            "Time:116.0 s\n",
            "Test Loss: 0.381936, Acc: 0.393810\n",
            "Time:116.0 s\n",
            "Test Loss: 0.386329, Acc: 0.398587\n",
            "Time:116.0 s\n",
            "Test Loss: 0.391008, Acc: 0.403563\n",
            "Time:116.0 s\n",
            "Test Loss: 0.395511, Acc: 0.408937\n",
            "Time:116.0 s\n",
            "Test Loss: 0.399466, Acc: 0.414212\n",
            "Time:116.0 s\n",
            "Test Loss: 0.404747, Acc: 0.418790\n",
            "Time:116.0 s\n",
            "Test Loss: 0.409882, Acc: 0.423467\n",
            "Time:116.0 s\n",
            "Test Loss: 0.415697, Acc: 0.427647\n",
            "Time:116.0 s\n",
            "Test Loss: 0.420453, Acc: 0.432225\n",
            "Time:116.0 s\n",
            "Test Loss: 0.425610, Acc: 0.436803\n",
            "Time:116.0 s\n",
            "Test Loss: 0.430529, Acc: 0.441282\n",
            "Time:116.0 s\n",
            "Test Loss: 0.434401, Acc: 0.446357\n",
            "Time:116.0 s\n",
            "Test Loss: 0.437608, Acc: 0.451732\n",
            "Time:116.1 s\n",
            "Test Loss: 0.442870, Acc: 0.455912\n",
            "Time:116.1 s\n",
            "Test Loss: 0.446922, Acc: 0.461087\n",
            "Time:116.1 s\n",
            "Test Loss: 0.451629, Acc: 0.465864\n",
            "Time:116.1 s\n",
            "Test Loss: 0.455717, Acc: 0.470939\n",
            "Time:116.1 s\n",
            "Test Loss: 0.459954, Acc: 0.475916\n",
            "Time:116.1 s\n",
            "Test Loss: 0.465259, Acc: 0.480494\n",
            "Time:116.1 s\n",
            "Test Loss: 0.469864, Acc: 0.485370\n",
            "Time:116.1 s\n",
            "Test Loss: 0.474932, Acc: 0.490147\n",
            "Time:116.1 s\n",
            "Test Loss: 0.479520, Acc: 0.495024\n",
            "Time:116.1 s\n",
            "Test Loss: 0.484025, Acc: 0.499900\n",
            "Time:116.1 s\n",
            "Test Loss: 0.489067, Acc: 0.504678\n",
            "Time:116.1 s\n",
            "Test Loss: 0.495561, Acc: 0.508459\n",
            "Time:116.1 s\n",
            "Test Loss: 0.499413, Acc: 0.513635\n",
            "Time:116.1 s\n",
            "Test Loss: 0.504546, Acc: 0.518511\n",
            "Time:116.1 s\n",
            "Test Loss: 0.509393, Acc: 0.523686\n",
            "Time:116.1 s\n",
            "Test Loss: 0.514611, Acc: 0.528463\n",
            "Time:116.2 s\n",
            "Test Loss: 0.519548, Acc: 0.532544\n",
            "Time:116.2 s\n",
            "Test Loss: 0.524094, Acc: 0.537420\n",
            "Time:116.2 s\n",
            "Test Loss: 0.527667, Acc: 0.542596\n",
            "Time:116.2 s\n",
            "Test Loss: 0.532945, Acc: 0.547174\n",
            "Time:116.2 s\n",
            "Test Loss: 0.537432, Acc: 0.552249\n",
            "Time:116.2 s\n",
            "Test Loss: 0.541860, Acc: 0.557325\n",
            "Time:116.2 s\n",
            "Test Loss: 0.546505, Acc: 0.562102\n",
            "Time:116.2 s\n",
            "Test Loss: 0.550656, Acc: 0.567078\n",
            "Time:116.2 s\n",
            "Test Loss: 0.554929, Acc: 0.572253\n",
            "Time:116.2 s\n",
            "Test Loss: 0.559856, Acc: 0.577130\n",
            "Time:116.2 s\n",
            "Test Loss: 0.564369, Acc: 0.582006\n",
            "Time:116.2 s\n",
            "Test Loss: 0.568959, Acc: 0.587082\n",
            "Time:116.2 s\n",
            "Test Loss: 0.573546, Acc: 0.592158\n",
            "Time:116.2 s\n",
            "Test Loss: 0.578394, Acc: 0.596437\n",
            "Time:116.2 s\n",
            "Test Loss: 0.583740, Acc: 0.601115\n",
            "Time:116.2 s\n",
            "Test Loss: 0.589375, Acc: 0.605494\n",
            "Time:116.3 s\n",
            "Test Loss: 0.594376, Acc: 0.610072\n",
            "Time:116.3 s\n",
            "Test Loss: 0.598491, Acc: 0.615048\n",
            "Time:116.3 s\n",
            "Test Loss: 0.603610, Acc: 0.619725\n",
            "Time:116.3 s\n",
            "Test Loss: 0.608581, Acc: 0.624602\n",
            "Time:116.3 s\n",
            "Test Loss: 0.613745, Acc: 0.628682\n",
            "Time:116.3 s\n",
            "Test Loss: 0.617967, Acc: 0.633559\n",
            "Time:116.3 s\n",
            "Test Loss: 0.621515, Acc: 0.639033\n",
            "Time:116.3 s\n",
            "Test Loss: 0.625559, Acc: 0.644307\n",
            "Time:116.3 s\n",
            "Test Loss: 0.630043, Acc: 0.648985\n",
            "Time:116.3 s\n",
            "Test Loss: 0.634826, Acc: 0.653861\n",
            "Time:116.3 s\n",
            "Test Loss: 0.638575, Acc: 0.659136\n",
            "Time:116.3 s\n",
            "Test Loss: 0.644636, Acc: 0.663117\n",
            "Time:116.3 s\n",
            "Test Loss: 0.648783, Acc: 0.668392\n",
            "Time:116.3 s\n",
            "Test Loss: 0.653047, Acc: 0.673368\n",
            "Time:116.3 s\n",
            "Test Loss: 0.657916, Acc: 0.677846\n",
            "Time:116.3 s\n",
            "Test Loss: 0.661710, Acc: 0.682822\n",
            "Time:116.3 s\n",
            "Test Loss: 0.666717, Acc: 0.687799\n",
            "Time:116.4 s\n",
            "Test Loss: 0.671887, Acc: 0.692277\n",
            "Time:116.4 s\n",
            "Test Loss: 0.677116, Acc: 0.696756\n",
            "Time:116.4 s\n",
            "Test Loss: 0.682121, Acc: 0.701533\n",
            "Time:116.4 s\n",
            "Test Loss: 0.686595, Acc: 0.706111\n",
            "Time:116.4 s\n",
            "Test Loss: 0.691446, Acc: 0.710490\n",
            "Time:116.4 s\n",
            "Test Loss: 0.695556, Acc: 0.715565\n",
            "Time:116.4 s\n",
            "Test Loss: 0.700438, Acc: 0.720143\n",
            "Time:116.4 s\n",
            "Test Loss: 0.705806, Acc: 0.725119\n",
            "Time:116.4 s\n",
            "Test Loss: 0.710859, Acc: 0.730195\n",
            "Time:116.4 s\n",
            "Test Loss: 0.715113, Acc: 0.735470\n",
            "Time:116.4 s\n",
            "Test Loss: 0.719135, Acc: 0.740645\n",
            "Time:116.4 s\n",
            "Test Loss: 0.723112, Acc: 0.745920\n",
            "Time:116.4 s\n",
            "Test Loss: 0.728357, Acc: 0.750398\n",
            "Time:116.4 s\n",
            "Test Loss: 0.733174, Acc: 0.755275\n",
            "Time:116.4 s\n",
            "Test Loss: 0.736460, Acc: 0.760848\n",
            "Time:116.5 s\n"
          ]
        }
      ]
    },
    {
      "cell_type": "markdown",
      "source": [
        "5.1 visulizing the model"
      ],
      "metadata": {
        "id": "RT3cbXe1H52F"
      }
    },
    {
      "cell_type": "code",
      "source": [
        "# Visualizing some predictions\n",
        "images, labels = next(iter(test_loader))\n",
        "images = images.reshape(-1, 28*28).to(device)\n",
        "labels = labels.to(device)\n",
        "outputs = model(images)\n",
        "_, predicted = torch.max(outputs, 1)\n",
        "#fig is a reference to the entire figure.\n",
        "#ax is an array of Axes objects, and each Axes object can be used to draw a plot. Since there are 5 subplots, ax contains 5 such objects.\n",
        "#figsize=(15, 3) sets the size of the entire figure to 15 inches wide and 3 inches tall.\n",
        "fig, ax = plt.subplots(1, 5, figsize=(15, 3)) #The arguments (1, 5) specify that the figure should have 1 row of 5 columns, i.e., 5 subplots aligned horizontally.\n",
        "for i in range(5):\n",
        "    ax[i].imshow(images[i].reshape(28, 28).cpu(), cmap='gray')\n",
        "    ax[i].set_title(f'True: {labels[i].item()}, Pred: {predicted[i].item()}')\n",
        "    ax[i].axis('off')\n",
        "plt.show()"
      ],
      "metadata": {
        "colab": {
          "base_uri": "https://localhost:8080/",
          "height": 192
        },
        "id": "onkiIynvGIm2",
        "outputId": "7fe32d42-4054-47a7-c506-4115da24339e"
      },
      "execution_count": null,
      "outputs": [
        {
          "output_type": "display_data",
          "data": {
            "text/plain": [
              "<Figure size 1500x300 with 5 Axes>"
            ],
            "image/png": "[encoded data removed]"
          },
          "metadata": {}
        }
      ]
    },
    {
      "cell_type": "markdown",
      "source": [
        "# 7.Saving The Model"
      ],
      "metadata": {
        "id": "DW_Mm6dfIC5q"
      }
    },
    {
      "cell_type": "code",
      "source": [
        "torch.save(model.state_dict(),'./LogisticRegression.pth')"
      ],
      "metadata": {
        "id": "V4nBhzK1GIkU"
      },
      "execution_count": null,
      "outputs": []
    },
    {
      "cell_type": "code",
      "source": [],
      "metadata": {
        "id": "GUliaVhJGIhu"
      },
      "execution_count": null,
      "outputs": []
    },
    {
      "cell_type": "code",
      "source": [],
      "metadata": {
        "id": "DM29JpRvGIec"
      },
      "execution_count": null,
      "outputs": []
    },
    {
      "cell_type": "code",
      "source": [],
      "metadata": {
        "id": "zizOfHBUGIa_"
      },
      "execution_count": null,
      "outputs": []
    }
  ]
}